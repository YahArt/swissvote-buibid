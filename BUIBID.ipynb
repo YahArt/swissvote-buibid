{
 "cells": [
  {
   "cell_type": "markdown",
   "id": "7cb1df30-362a-493c-81bb-9470c194861e",
   "metadata": {},
   "source": [
    "# Die Schweizer Bevölkerung stimmt mehrheitlich gleich ab wie der Bundesrat\n",
    "## Variablen: br-pos, annahme"
   ]
  },
  {
   "cell_type": "code",
   "execution_count": 4,
   "id": "f95d9120-c67e-4825-8fe0-76d9f81541eb",
   "metadata": {},
   "outputs": [
    {
     "name": "stderr",
     "output_type": "stream",
     "text": [
      "/var/folders/hn/wqf6qfkj2mg6b6lxlws_0z180000gn/T/ipykernel_1335/3961332422.py:14: SettingWithCopyWarning: \n",
      "A value is trying to be set on a copy of a slice from a DataFrame.\n",
      "Try using .loc[row_indexer,col_indexer] = value instead\n",
      "\n",
      "See the caveats in the documentation: https://pandas.pydata.org/pandas-docs/stable/user_guide/indexing.html#returning-a-view-versus-a-copy\n",
      "  relevant_data['datum'] = pd.to_datetime(relevant_data['datum'], format=\"%d.%m.%Y\")\n"
     ]
    },
    {
     "data": {
      "text/plain": [
       "(array([12539., 12570., 12600., 12631., 12662., 12692., 12723., 12753.,\n",
       "        12784., 12815., 12843., 12874., 12904., 12935.]),\n",
       " [Text(0, 0, ''),\n",
       "  Text(0, 0, ''),\n",
       "  Text(0, 0, ''),\n",
       "  Text(0, 0, ''),\n",
       "  Text(0, 0, ''),\n",
       "  Text(0, 0, ''),\n",
       "  Text(0, 0, ''),\n",
       "  Text(0, 0, ''),\n",
       "  Text(0, 0, ''),\n",
       "  Text(0, 0, ''),\n",
       "  Text(0, 0, ''),\n",
       "  Text(0, 0, ''),\n",
       "  Text(0, 0, ''),\n",
       "  Text(0, 0, '')])"
      ]
     },
     "execution_count": 4,
     "metadata": {},
     "output_type": "execute_result"
    },
    {
     "data": {
      "image/png": "[encoded data removed]",
      "text/plain": [
       "<Figure size 432x288 with 1 Axes>"
      ]
     },
     "metadata": {
      "needs_background": "light"
     },
     "output_type": "display_data"
    }
   ],
   "source": [
    "# Imports\n",
    "import pandas as pd\n",
    "import datetime\n",
    "import matplotlib.pyplot as plt\n",
    "from matplotlib.dates import MonthLocator\n",
    "\n",
    "# Daten einlesen\n",
    "data = pd.read_csv('./data/buibid_data_original_utf_8.csv')\n",
    "\n",
    "# Nur relevante Daten behalten\n",
    "relevant_data = data[['datum','titel_kurz_d', 'br-pos', 'annahme']]\n",
    "\n",
    "# Datum in korrekte Datentypen umwandeln\n",
    "relevant_data['datum'] = pd.to_datetime(relevant_data['datum'], format=\"%d.%m.%Y\")\n",
    "\n",
    "# Es kann mehrere Abstimmungen am gleichen Tag geben, sprich wir haben mehrere Einträge mit dem selben Datum.\n",
    "# Damit die Einträge eindeutig bleiben und anschliessend auch auf Liniendiagramme angezeigt werden können, versehen wir diese mit einer zeitlichen Komponente.\n",
    "for i in relevant_data.index:\n",
    "    relevant_data.at[i, 'datum']  = relevant_data.at[i, 'datum'] + datetime.timedelta(hours = i % 24)\n",
    "\n",
    "# Herausfiltern der br-pos 1 = Ja oder 2 = Nein\n",
    "relevant_data = relevant_data[(relevant_data['br-pos'] == '1')|(relevant_data['br-pos'] == '2')]\n",
    "\n",
    "# Herausfiltern der annahme 0 = Nein und 1 = Ja (es gibt annahmen mit '.', welche wir nicht wollen)\n",
    "relevant_data = relevant_data[(relevant_data['annahme'] == '0')|(relevant_data['annahme'] == '1')]\n",
    "\n",
    "# br-pos sowie annahme in korrekte Datentypen umwandeln\n",
    "relevant_data = relevant_data.astype({'br-pos':'int'})\n",
    "relevant_data = relevant_data.astype({'annahme':'int'})\n",
    "\n",
    "# 'annahme' benutzt für 0 = Nein und 1 = Ja, wir müssen deshalb die Daten umwandeln, damit die Variablen\n",
    "# br-pos und annahme die gleichen Zahlen für Ja und Nein benutzen \n",
    "relevant_data['br-pos'].replace({2: 0}, inplace=True)\n",
    "\n",
    "# Wert für \"Ungleichheit\" bestimmen, hierzu subtrahieren wir einfach die Werte voneinander\n",
    "# Bei einer Übereinstimmung erhalten wir dann den Wert 0 und bei einer Ungleichheit entweder denn Wert 1 oder -1\n",
    "# Wir nehmen im jeden Fall den absoluten Wert dann erhalten wir immer 1, somit ist 0 = Übereinstimmung und 1 = Ungleichheit\n",
    "relevant_data['br_pos_annahme_ungleichheit'] = (relevant_data['br-pos'] - relevant_data['annahme']).abs()\n",
    "\n",
    "relevant_data = relevant_data[(relevant_data['datum'] > '2004-05-01') & (relevant_data['datum'] < '2005-08-01')]\n",
    "x = relevant_data['datum']\n",
    "y_svp = relevant_data['br_pos_annahme_ungleichheit']\n",
    "\n",
    "fig, ax = plt.subplots()\n",
    "ax.plot(x, y_svp)\n",
    "ax.set(ylabel=\"Ungleichheit (1 = Ungleich, 0 = Gleich)\", title=\"Ungleichheit der Abstimmungen (br-pos vs. annahme)\")\n",
    "ax.xaxis.set_major_locator(MonthLocator())\n",
    "plt.xticks(rotation=90)\n"
   ]
  },
  {
   "cell_type": "markdown",
   "id": "fc6b8af1",
   "metadata": {},
   "source": [
    "## Generierung CSV Datei"
   ]
  },
  {
   "cell_type": "code",
   "execution_count": 84,
   "id": "694471c9",
   "metadata": {},
   "outputs": [
    {
     "name": "stderr",
     "output_type": "stream",
     "text": [
      "/var/folders/hn/wqf6qfkj2mg6b6lxlws_0z180000gn/T/ipykernel_1335/663603402.py:15: SettingWithCopyWarning: \n",
      "A value is trying to be set on a copy of a slice from a DataFrame.\n",
      "Try using .loc[row_indexer,col_indexer] = value instead\n",
      "\n",
      "See the caveats in the documentation: https://pandas.pydata.org/pandas-docs/stable/user_guide/indexing.html#returning-a-view-versus-a-copy\n",
      "  relevant_data['datum'] = pd.to_datetime(relevant_data['datum'], format=\"%d.%m.%Y\")\n"
     ]
    }
   ],
   "source": [
    "# Imports\n",
    "import pandas as pd\n",
    "import datetime\n",
    "\n",
    "# Daten einlesen\n",
    "data = pd.read_csv('./data/buibid_data_original_utf_8.csv')\n",
    "\n",
    "# Nur relevante Daten behalten\n",
    "relevant_data = data[['datum','titel_kurz_d', 'br-pos', 'annahme']]\n",
    "\n",
    "# '-' sind in Hive nicht erlaubt\n",
    "relevant_data.rename(columns={'br-pos': 'br_pos'}, inplace=True)\n",
    "\n",
    "# Datum in korrekte Datentypen umwandeln\n",
    "relevant_data['datum'] = pd.to_datetime(relevant_data['datum'], format=\"%d.%m.%Y\")\n",
    "\n",
    "# Es kann mehrere Abstimmungen am gleichen Tag geben, sprich wir haben mehrere Einträge mit dem selben Datum.\n",
    "# Damit die Einträge eindeutig bleiben und anschliessend auch auf Liniendiagramme angezeigt werden können, versehen wir diese mit einer zeitlichen Komponente.\n",
    "for i in relevant_data.index:\n",
    "    relevant_data.at[i, 'datum']  = relevant_data.at[i, 'datum'] + datetime.timedelta(hours = i % 24)\n",
    "\n",
    "# Herausfiltern der br-pos 1 = Ja oder 2 = Nein\n",
    "relevant_data = relevant_data[(relevant_data['br_pos'] == '1')|(relevant_data['br_pos'] == '2')]\n",
    "\n",
    "# Herausfiltern der annahme 0 = Nein und 1 = Ja (es gibt annahmen mit '.', welche wir nicht wollen)\n",
    "relevant_data = relevant_data[(relevant_data['annahme'] == '0')|(relevant_data['annahme'] == '1')]\n",
    "\n",
    "# br-pos sowie annahme in korrekte Datentypen umwandeln\n",
    "relevant_data = relevant_data.astype({'br_pos':'int'})\n",
    "relevant_data = relevant_data.astype({'annahme':'int'})\n",
    "\n",
    "# 'annahme' benutzt für 0 = Nein und 1 = Ja, wir müssen deshalb die Daten umwandeln, damit die Variablen\n",
    "# br-pos und annahme die gleichen Zahlen für Ja und Nein benutzen\n",
    "relevant_data['br_pos'].replace({2: 0}, inplace=True)\n",
    "\n",
    "relevant_data.to_csv('./export/buibid_br_pos_annahme.csv', index=False)\n"
   ]
  },
  {
   "cell_type": "markdown",
   "id": "0065f8f9",
   "metadata": {},
   "source": [
    "# Die Schweizer Bevölkerung stimmt über die Jahre ungleicher mit den Parteiparolen der SVP / SP ab.\n",
    "## Variablen: p-svp, p-sp, annahme"
   ]
  },
  {
   "cell_type": "code",
   "execution_count": 64,
   "id": "5b450895",
   "metadata": {},
   "outputs": [
    {
     "name": "stderr",
     "output_type": "stream",
     "text": [
      "/var/folders/hn/wqf6qfkj2mg6b6lxlws_0z180000gn/T/ipykernel_1335/1460593900.py:14: SettingWithCopyWarning: \n",
      "A value is trying to be set on a copy of a slice from a DataFrame.\n",
      "Try using .loc[row_indexer,col_indexer] = value instead\n",
      "\n",
      "See the caveats in the documentation: https://pandas.pydata.org/pandas-docs/stable/user_guide/indexing.html#returning-a-view-versus-a-copy\n",
      "  relevant_data['datum'] = pd.to_datetime(relevant_data['datum'], format=\"%d.%m.%Y\")\n"
     ]
    },
    {
     "data": {
      "text/plain": [
       "(array([12539., 12570., 12600., 12631., 12662., 12692., 12723., 12753.,\n",
       "        12784., 12815., 12843., 12874., 12904., 12935.]),\n",
       " [Text(0, 0, ''),\n",
       "  Text(0, 0, ''),\n",
       "  Text(0, 0, ''),\n",
       "  Text(0, 0, ''),\n",
       "  Text(0, 0, ''),\n",
       "  Text(0, 0, ''),\n",
       "  Text(0, 0, ''),\n",
       "  Text(0, 0, ''),\n",
       "  Text(0, 0, ''),\n",
       "  Text(0, 0, ''),\n",
       "  Text(0, 0, ''),\n",
       "  Text(0, 0, ''),\n",
       "  Text(0, 0, ''),\n",
       "  Text(0, 0, '')])"
      ]
     },
     "execution_count": 64,
     "metadata": {},
     "output_type": "execute_result"
    },
    {
     "data": {
      "image/png": "[encoded data removed]",
      "text/plain": [
       "<Figure size 432x288 with 1 Axes>"
      ]
     },
     "metadata": {
      "needs_background": "light"
     },
     "output_type": "display_data"
    },
    {
     "data": {
      "image/png": "[encoded data removed]",
      "text/plain": [
       "<Figure size 432x288 with 1 Axes>"
      ]
     },
     "metadata": {
      "needs_background": "light"
     },
     "output_type": "display_data"
    }
   ],
   "source": [
    "# Imports\n",
    "import pandas as pd\n",
    "import datetime\n",
    "import matplotlib.pyplot as plt\n",
    "from matplotlib.dates import MonthLocator\n",
    "\n",
    "# Daten einlesen\n",
    "data = pd.read_csv('./data/buibid_data_original_utf_8.csv')\n",
    "\n",
    "# Nur relevante Daten behalten\n",
    "relevant_data = data[['datum','titel_kurz_d', 'p-svp', 'p-sps', 'annahme']]\n",
    "\n",
    "# Datum in korrekte Datentypen umwandeln\n",
    "relevant_data['datum'] = pd.to_datetime(relevant_data['datum'], format=\"%d.%m.%Y\")\n",
    "\n",
    "# Es kann mehrere Abstimmungen am gleichen Tag geben, sprich wir haben mehrere Einträge mit dem selben Datum.\n",
    "# Damit die Einträge eindeutig bleiben und anschliessend auch auf Liniendiagramme angezeigt werden können, versehen wir diese mit einer zeitlichen Komponente.\n",
    "for i in relevant_data.index:\n",
    "    relevant_data.at[i, 'datum']  = relevant_data.at[i, 'datum'] + datetime.timedelta(hours = i % 24)\n",
    "\n",
    "# Herausfiltern der p-svp / p-sps 1 = Ja oder 2 = Nein\n",
    "relevant_data = relevant_data[relevant_data['p-sps'] != '.'].dropna()\n",
    "relevant_data = relevant_data[(relevant_data['p-sps'] == '1') | (relevant_data['p-sps'] == '2')] \n",
    "\n",
    "relevant_data = relevant_data[relevant_data['p-svp'] != '.'].dropna()\n",
    "relevant_data = relevant_data[(relevant_data['p-svp'] == '1') | (relevant_data['p-svp'] == '2')] \n",
    "\n",
    "# Herausfiltern der annahme 0 = Nein und 1 = Ja (es gibt annahmen mit '.', welche wir nicht wollen)\n",
    "relevant_data = relevant_data[relevant_data['annahme'] != '.'].dropna()\n",
    "relevant_data = relevant_data[(relevant_data['annahme'] == '0') | (relevant_data['annahme'] == '1')]\n",
    "\n",
    "# In korrekte Datentypen umwandeln\n",
    "relevant_data = relevant_data.astype({'p-svp':'int'})\n",
    "relevant_data = relevant_data.astype({'p-sps':'int'})\n",
    "relevant_data = relevant_data.astype({'annahme':'int'})\n",
    "\n",
    "# 'annahme' benutzt für 0 = Nein und 1 = Ja, wir müssen deshalb die Daten umwandeln, damit die Variablen\n",
    "# p-svp / p-sps und annahme die gleichen Zahlen für Ja und Nein benutzen \n",
    "relevant_data['p-svp'].replace({2: 0}, inplace=True)\n",
    "relevant_data['p-sps'].replace({2: 0}, inplace=True)\n",
    "\n",
    "\n",
    "# Wert für \"Ungleichheit\" bestimmen, hierzu subtrahieren wir einfach die Werte voneinander\n",
    "# Bei einer Übereinstimmung erhalten wir dann den Wert 0 und bei einer Ungleichheit entweder denn Wert 1 oder -1\n",
    "# Wir nehmen im jeden Fall den absoluten Wert dann erhalten wir immer 1, somit ist 0 = Übereinstimmung und 1 = Ungleichheit\n",
    "relevant_data['ungleichheit-svp'] = (relevant_data['p-svp'] - relevant_data['annahme']).abs()\n",
    "relevant_data['ungleichheit-sps'] = (relevant_data['p-sps'] - relevant_data['annahme']).abs()\n",
    "\n",
    "# Liniendiagramm zeichnen\n",
    "relevant_data = relevant_data[(relevant_data['datum'] > '2004-05-01') & (relevant_data['datum'] < '2005-08-01')]\n",
    "x = relevant_data['datum']\n",
    "y_svp = relevant_data['ungleichheit-svp']\n",
    "\n",
    "fig, ax = plt.subplots()\n",
    "ax.plot(x, y_svp)\n",
    "ax.set(ylabel=\"Ungleichheit (1 = Ungleich, 0 = Gleich)\", title=\"Ungleichheit der Abstimmungen (p-svp vs. annahme)\")\n",
    "ax.xaxis.set_major_locator(MonthLocator())\n",
    "plt.xticks(rotation=90)\n",
    "\n",
    "y_sps = relevant_data['ungleichheit-sps']\n",
    "\n",
    "fig, ax = plt.subplots()\n",
    "ax.plot(x, y_sps)\n",
    "ax.set(ylabel=\"Ungleichheit (1 = Ungleich, 0 = Gleich)\", title=\"Ungleichheit der Abstimmungen (p-sps vs. annahme)\")\n",
    "ax.xaxis.set_major_locator(MonthLocator())\n",
    "plt.xticks(rotation=90)\n"
   ]
  },
  {
   "cell_type": "markdown",
   "id": "b0bcc2a0",
   "metadata": {},
   "source": [
    "## Generierung CSV Datei"
   ]
  },
  {
   "cell_type": "code",
   "execution_count": 85,
   "id": "ebb91200",
   "metadata": {},
   "outputs": [
    {
     "name": "stderr",
     "output_type": "stream",
     "text": [
      "/var/folders/hn/wqf6qfkj2mg6b6lxlws_0z180000gn/T/ipykernel_1335/3644685992.py:17: SettingWithCopyWarning: \n",
      "A value is trying to be set on a copy of a slice from a DataFrame.\n",
      "Try using .loc[row_indexer,col_indexer] = value instead\n",
      "\n",
      "See the caveats in the documentation: https://pandas.pydata.org/pandas-docs/stable/user_guide/indexing.html#returning-a-view-versus-a-copy\n",
      "  relevant_data['datum'] = pd.to_datetime(relevant_data['datum'], format=\"%d.%m.%Y\")\n"
     ]
    }
   ],
   "source": [
    "# Imports\n",
    "import pandas as pd\n",
    "import matplotlib.pyplot as plt\n",
    "from matplotlib.dates import MonthLocator\n",
    "\n",
    "# Daten einlesen\n",
    "data = pd.read_csv('./data/buibid_data_original_utf_8.csv')\n",
    "\n",
    "# Nur relevante Daten behalten\n",
    "relevant_data = data[['datum','titel_kurz_d', 'p-svp', 'p-sps', 'annahme']]\n",
    "\n",
    "# '-' sind in Hive nicht erlaubt\n",
    "relevant_data.rename(columns={'p-svp': 'p_svp'}, inplace=True)\n",
    "relevant_data.rename(columns={'p-sps': 'p_sps'}, inplace=True)\n",
    "\n",
    "# Datum in korrekte Datentypen umwandeln\n",
    "relevant_data['datum'] = pd.to_datetime(relevant_data['datum'], format=\"%d.%m.%Y\")\n",
    "\n",
    "# Es kann mehrere Abstimmungen am gleichen Tag geben, sprich wir haben mehrere Einträge mit dem selben Datum.\n",
    "# Damit die Einträge eindeutig bleiben und anschliessend auch auf Liniendiagramme angezeigt werden können, versehen wir diese mit einer zeitlichen Komponente.\n",
    "for i in relevant_data.index:\n",
    "    relevant_data.at[i, 'datum']  = relevant_data.at[i, 'datum'] + datetime.timedelta(hours = i % 24)\n",
    "\n",
    "# Herausfiltern der p-svp / p-sps 1 = Ja oder 2 = Nein\n",
    "relevant_data = relevant_data[relevant_data['p_sps'] != '.'].dropna()\n",
    "relevant_data = relevant_data[(relevant_data['p_sps'] == '1') | (relevant_data['p_sps'] == '2')] \n",
    "\n",
    "relevant_data = relevant_data[relevant_data['p_svp'] != '.'].dropna()\n",
    "relevant_data = relevant_data[(relevant_data['p_svp'] == '1') | (relevant_data['p_svp'] == '2')] \n",
    "\n",
    "# Herausfiltern der annahme 0 = Nein und 1 = Ja (es gibt annahmen mit '.', welche wir nicht wollen)\n",
    "relevant_data = relevant_data[relevant_data['annahme'] != '.'].dropna()\n",
    "relevant_data = relevant_data[(relevant_data['annahme'] == '0') | (relevant_data['annahme'] == '1')]\n",
    "\n",
    "# In korrekte Datentypen umwandeln\n",
    "relevant_data = relevant_data.astype({'p_svp':'int'})\n",
    "relevant_data = relevant_data.astype({'p_sps':'int'})\n",
    "relevant_data = relevant_data.astype({'annahme':'int'})\n",
    "\n",
    "# 'annahme' benutzt für 0 = Nein und 1 = Ja, wir müssen deshalb die Daten umwandeln, damit die Variablen\n",
    "# p-svp / p-sps und annahme die gleichen Zahlen für Ja und Nein benutzen \n",
    "relevant_data['p_svp'].replace({2: 0}, inplace=True)\n",
    "relevant_data['p_sps'].replace({2: 0}, inplace=True)\n",
    "\n",
    "relevant_data.to_csv('./export/buibid_p_svp_p_sps_annahme.csv', index=False)"
   ]
  },
  {
   "cell_type": "markdown",
   "id": "94705924",
   "metadata": {},
   "source": [
    "# Die Schweizer Bevölkerung ist ablehnend gegenüber einer Initiative/Referendum, wenn die Medienberichterstattung mehrheitlich ablehnend ist.\n",
    "## Variablen: mediaton-tot, annahme"
   ]
  },
  {
   "cell_type": "code",
   "execution_count": 82,
   "id": "3a6e411c",
   "metadata": {},
   "outputs": [
    {
     "name": "stderr",
     "output_type": "stream",
     "text": [
      "/var/folders/hn/wqf6qfkj2mg6b6lxlws_0z180000gn/T/ipykernel_1335/3842850306.py:12: SettingWithCopyWarning: \n",
      "A value is trying to be set on a copy of a slice from a DataFrame.\n",
      "Try using .loc[row_indexer,col_indexer] = value instead\n",
      "\n",
      "See the caveats in the documentation: https://pandas.pydata.org/pandas-docs/stable/user_guide/indexing.html#returning-a-view-versus-a-copy\n",
      "  relevant_data['datum'] = pd.to_datetime(relevant_data['datum'], format=\"%d.%m.%Y\")\n"
     ]
    },
    {
     "data": {
      "image/png": "[encoded data removed]",
      "text/plain": [
       "<Figure size 432x288 with 1 Axes>"
      ]
     },
     "metadata": {},
     "output_type": "display_data"
    }
   ],
   "source": [
    "# Imports\n",
    "import pandas as pd\n",
    "import matplotlib.pyplot as plt\n",
    "\n",
    "# Daten einlesen\n",
    "data = pd.read_csv('./data/buibid_data_original_utf_8.csv')\n",
    "\n",
    "# Nur relevante Daten behalten\n",
    "relevant_data = data[['datum','titel_kurz_d', 'mediaton-tot', 'annahme']]\n",
    "\n",
    "# Datum in korrekte Datentypen umwandeln\n",
    "relevant_data['datum'] = pd.to_datetime(relevant_data['datum'], format=\"%d.%m.%Y\")\n",
    "\n",
    "# Es kann mehrere Abstimmungen am gleichen Tag geben, sprich wir haben mehrere Einträge mit dem selben Datum.\n",
    "# Damit die Einträge eindeutig bleiben und anschliessend auch auf Liniendiagramme angezeigt werden können, versehen wir diese mit einer zeitlichen Komponente.\n",
    "for i in relevant_data.index:\n",
    "    relevant_data.at[i, 'datum']  = relevant_data.at[i, 'datum'] + datetime.timedelta(hours = i % 24)\n",
    "\n",
    "# Filtern der annahme 0 = Nein und 1 = Ja (es gibt annahmen mit '.', welche wir nicht wollen)\n",
    "relevant_data = relevant_data[(relevant_data['annahme'] == '0')|(relevant_data['annahme'] == '1')]\n",
    "\n",
    "# Herausfiltern der mediaton-tot (es gibt Werte mit '.' oder ganz leer, welche wir nicht wollen)\n",
    "relevant_data = relevant_data[relevant_data['mediaton-tot'] != '.']\n",
    "\n",
    "# mediaton-tot sowie annahme in korrekte Datentypen umwandeln\n",
    "relevant_data = relevant_data.astype({'mediaton-tot':'int'})\n",
    "relevant_data = relevant_data.astype({'annahme':'int'})\n",
    "\n",
    "# Alle Annahmen welche Nein sind (0) durch den Wert -1 ersetzen\n",
    "# Folgende Ergebnisse sollten dann rauszulesen sein:\n",
    "\t# A. Berichterstattung positiv \"mediaton_tot\" * annahme positiv = n>0 * 1 = positive zahl\n",
    "\t# B. Berichterstattung positiv \"mediaton_tot\" * annahme negativ = n>0 * -1 (anstatt 0) = negative Zahl\n",
    "\t# C. Berichterstattung negativ \"mediaton_tot\" * annahme positiv = n<0 * 1 = negative Zahl\n",
    "\t# D. Berichterstattung negativ \"mediaton_tot\" * annahme negativ = n<0 * -1 (anstatt 0) = positive Zahl\n",
    "\n",
    "relevant_data['annahme'].replace({0: -1}, inplace=True)\n",
    "\n",
    "relevant_data['gleichheit'] = relevant_data['mediaton-tot'] * relevant_data['annahme']\n",
    "yes_percentage = len(relevant_data[relevant_data['gleichheit'] >= 0])\n",
    "no_percentage = len(relevant_data[relevant_data['gleichheit'] < 0])\n",
    "\n",
    "# Kuchendiagramm zeichnen\n",
    "labels = 'Stimmt nicht überrein', 'Stimmt überrein'\n",
    "sizes = [no_percentage, yes_percentage]\n",
    "fig1, ax1 = plt.subplots()\n",
    "ax1.pie(sizes,labels=labels, autopct='%1.1f%%', shadow=True, startangle=90)\n",
    "ax1.axis('equal')  # Equal aspect ratio ensures that pie is drawn as a circle.\n",
    "plt.show()"
   ]
  },
  {
   "cell_type": "markdown",
   "id": "b8939ab3",
   "metadata": {},
   "source": [
    "## Generierung CSV Datei"
   ]
  },
  {
   "cell_type": "code",
   "execution_count": 1,
   "id": "0b84fdfb",
   "metadata": {},
   "outputs": [
    {
     "name": "stderr",
     "output_type": "stream",
     "text": [
      "/opt/anaconda3/lib/python3.9/site-packages/pandas/core/frame.py:5039: SettingWithCopyWarning: \n",
      "A value is trying to be set on a copy of a slice from a DataFrame\n",
      "\n",
      "See the caveats in the documentation: https://pandas.pydata.org/pandas-docs/stable/user_guide/indexing.html#returning-a-view-versus-a-copy\n",
      "  return super().rename(\n",
      "/var/folders/ds/f3lvjky16mlc3bjs6fxxd6d80000gn/T/ipykernel_7960/1520636850.py:15: SettingWithCopyWarning: \n",
      "A value is trying to be set on a copy of a slice from a DataFrame.\n",
      "Try using .loc[row_indexer,col_indexer] = value instead\n",
      "\n",
      "See the caveats in the documentation: https://pandas.pydata.org/pandas-docs/stable/user_guide/indexing.html#returning-a-view-versus-a-copy\n",
      "  relevant_data['datum'] = pd.to_datetime(relevant_data['datum'], format=\"%d.%m.%Y\")\n"
     ]
    }
   ],
   "source": [
    "# Imports\n",
    "import pandas as pd\n",
    "import datetime\n",
    "\n",
    "# Daten einlesen\n",
    "data = pd.read_csv('./data/buibid_data_original_utf_8.csv')\n",
    "\n",
    "# Nur relevante Daten behalten\n",
    "relevant_data = data[['datum','titel_kurz_d', 'mediaton-tot', 'annahme']]\n",
    "\n",
    "# '-' sind in Hive nicht erlaubt\n",
    "relevant_data.rename(columns={'mediaton-tot': 'mediaton_tot'}, inplace=True)\n",
    "\n",
    "# Datum in korrekte Datentypen umwandeln\n",
    "relevant_data['datum'] = pd.to_datetime(relevant_data['datum'], format=\"%d.%m.%Y\")\n",
    "\n",
    "# Es kann mehrere Abstimmungen am gleichen Tag geben, sprich wir haben mehrere Einträge mit dem selben Datum.\n",
    "# Damit die Einträge eindeutig bleiben und anschliessend auch auf Liniendiagramme angezeigt werden können, versehen wir diese mit einer zeitlichen Komponente.\n",
    "for i in relevant_data.index:\n",
    "    relevant_data.at[i, 'datum']  = relevant_data.at[i, 'datum'] + datetime.timedelta(hours = i % 24)\n",
    "\n",
    "# Herausfiltern ungültiger Einträge (es gibt annahmen sowie mediaton_tot mit '.' sowie leere Einträge, welche wir nicht wollen)\n",
    "relevant_data = relevant_data[(relevant_data['mediaton_tot'] != '.')&(relevant_data['annahme'] != '.')].dropna()\n",
    "\n",
    "# mediaton-tot sowie annahme in korrekte Datentypen umwandeln\n",
    "relevant_data = relevant_data.astype({'mediaton_tot':'int'})\n",
    "relevant_data = relevant_data.astype({'annahme':'int'})\n",
    "\n",
    "# Alle Annahmen welche Nein sind (0) durch den Wert -1 ersetzen\n",
    "# Folgende Ergebnisse sollten dann rauszulesen sein:\n",
    "\t# A. Berichterstattung positiv \"mediaton_tot\" * annahme positiv = n>0 * 1 = positive zahl\n",
    "\t# B. Berichterstattung positiv \"mediaton_tot\" * annahme negativ = n>0 * -1 (anstatt 0) = negative Zahl\n",
    "\t# C. Berichterstattung negativ \"mediaton_tot\" * annahme positiv = n<0 * 1 = negative Zahl\n",
    "\t# D. Berichterstattung negativ \"mediaton_tot\" * annahme negativ = n<0 * -1 (anstatt 0) = positive Zahl\n",
    "\n",
    "relevant_data['annahme'].replace({0: -1}, inplace=True)\n",
    "\n",
    "\n",
    "relevant_data.to_csv('./export/buibid_mediaton_tot_annahme.csv', index=False)"
   ]
  },
  {
   "cell_type": "markdown",
   "id": "d2ec061a",
   "metadata": {},
   "source": [
    "# Es gibt einen Zusammenhang zwischen dem Ja-Anteil der Abstimmungsresultate und der Anzahl des Ja-Anteils an Inseraten in Printmedien.\n",
    "## Variablen: annahme, inserate-ja"
   ]
  },
  {
   "cell_type": "code",
   "execution_count": 8,
   "id": "200c88d2",
   "metadata": {},
   "outputs": [
    {
     "name": "stderr",
     "output_type": "stream",
     "text": [
      "/var/folders/hn/wqf6qfkj2mg6b6lxlws_0z180000gn/T/ipykernel_1335/3275397371.py:14: SettingWithCopyWarning: \n",
      "A value is trying to be set on a copy of a slice from a DataFrame.\n",
      "Try using .loc[row_indexer,col_indexer] = value instead\n",
      "\n",
      "See the caveats in the documentation: https://pandas.pydata.org/pandas-docs/stable/user_guide/indexing.html#returning-a-view-versus-a-copy\n",
      "  relevant_data['datum'] = pd.to_datetime(relevant_data['datum'], format=\"%d.%m.%Y\")\n"
     ]
    },
    {
     "data": {
      "text/plain": [
       "<seaborn.axisgrid.PairGrid at 0x7fde210d3be0>"
      ]
     },
     "execution_count": 8,
     "metadata": {},
     "output_type": "execute_result"
    },
    {
     "data": {
      "image/png": "[encoded data removed]",
      "text/plain": [
       "<Figure size 235.125x180 with 2 Axes>"
      ]
     },
     "metadata": {
      "needs_background": "light"
     },
     "output_type": "display_data"
    }
   ],
   "source": [
    "# Imports\n",
    "import pandas as pd\n",
    "import matplotlib.pyplot as plt\n",
    "import seaborn as sns\n",
    "import datetime\n",
    "\n",
    "# Daten einlesen\n",
    "data = pd.read_csv('./data/buibid_data_original_utf_8.csv')\n",
    "\n",
    "# Nur relevante Daten behalten\n",
    "relevant_data = data[['datum','titel_kurz_d', 'inserate-ja', 'annahme']]\n",
    "\n",
    "# Datum in korrekte Datentypen umwandeln\n",
    "relevant_data['datum'] = pd.to_datetime(relevant_data['datum'], format=\"%d.%m.%Y\")\n",
    "\n",
    "# Es kann mehrere Abstimmungen am gleichen Tag geben, sprich wir haben mehrere Einträge mit dem selben Datum.\n",
    "# Damit die Einträge eindeutig bleiben und anschliessend auch auf Liniendiagramme angezeigt werden können, versehen wir diese mit einer zeitlichen Komponente.\n",
    "for i in relevant_data.index:\n",
    "    relevant_data.at[i, 'datum']  = relevant_data.at[i, 'datum'] + datetime.timedelta(hours = i % 24)\n",
    "\n",
    "# Filtern der annahme 0 = Nein und 1 = Ja (es gibt annahmen mit '.', welche wir nicht wollen)\n",
    "relevant_data = relevant_data[(relevant_data['annahme'] == '0')|(relevant_data['annahme'] == '1')]\n",
    "\n",
    "# Herausfilter der inserate-ja mit '.'\n",
    "relevant_data = relevant_data[(relevant_data['inserate-ja'] != '.')].dropna()\n",
    "\n",
    "relevant_data = relevant_data.astype({'inserate-ja':'int'})\n",
    "relevant_data = relevant_data.astype({'annahme':'int'})\n",
    "\n",
    "sns.pairplot(relevant_data, hue = 'annahme')"
   ]
  },
  {
   "cell_type": "code",
   "execution_count": null,
   "metadata": {},
   "outputs": [],
   "source": []
  },
  {
   "cell_type": "markdown",
   "id": "af4e730c",
   "metadata": {},
   "source": [
    "## Generierung CSV Datei"
   ]
  },
  {
   "cell_type": "code",
   "execution_count": 87,
   "id": "c228e1f9",
   "metadata": {},
   "outputs": [
    {
     "name": "stderr",
     "output_type": "stream",
     "text": [
      "/var/folders/hn/wqf6qfkj2mg6b6lxlws_0z180000gn/T/ipykernel_1335/1965533801.py:17: SettingWithCopyWarning: \n",
      "A value is trying to be set on a copy of a slice from a DataFrame.\n",
      "Try using .loc[row_indexer,col_indexer] = value instead\n",
      "\n",
      "See the caveats in the documentation: https://pandas.pydata.org/pandas-docs/stable/user_guide/indexing.html#returning-a-view-versus-a-copy\n",
      "  relevant_data['datum'] = pd.to_datetime(relevant_data['datum'], format=\"%d.%m.%Y\")\n"
     ]
    }
   ],
   "source": [
    "# Imports\n",
    "import pandas as pd\n",
    "import numpy as np\n",
    "import datetime\n",
    "\n",
    "# Daten einlesen\n",
    "data = pd.read_csv('./data/buibid_data_original_utf_8.csv')\n",
    "\n",
    "# Nur relevante Daten behalten\n",
    "relevant_data = data[['datum','titel_kurz_d', 'inserate-ja', 'inserate-nein', 'annahme']]\n",
    "\n",
    "# '-' sind in Hive nicht erlaubt\n",
    "relevant_data.rename(columns={'inserate-ja': 'inserate_ja'}, inplace=True)\n",
    "relevant_data.rename(columns={'inserate-nein': 'inserate_nein'}, inplace=True)\n",
    "\n",
    "# Datum in korrekte Datentypen umwandeln\n",
    "relevant_data['datum'] = pd.to_datetime(relevant_data['datum'], format=\"%d.%m.%Y\")\n",
    "\n",
    "# Es kann mehrere Abstimmungen am gleichen Tag geben, sprich wir haben mehrere Einträge mit dem selben Datum.\n",
    "# Damit die Einträge eindeutig bleiben und anschliessend auch auf Liniendiagramme angezeigt werden können, versehen wir diese mit einer zeitlichen Komponente.\n",
    "for i in relevant_data.index:\n",
    "    relevant_data.at[i, 'datum']  = relevant_data.at[i, 'datum'] + datetime.timedelta(hours = i % 24)\n",
    "\n",
    "# Herausfiltern ungültiger Einträge (es gibt annahmen sowie br_pos mit '.' sowie leere Einträge, welche wir nicht wollen)\n",
    "relevant_data = relevant_data[(relevant_data['inserate_ja'] != '.')&(relevant_data['inserate_nein'] != '.')&(relevant_data['annahme'] != '.')].dropna()\n",
    "\n",
    "\n",
    "relevant_data = relevant_data.astype({'inserate_ja':'int'})\n",
    "relevant_data = relevant_data.astype({'inserate_nein':'int'})\n",
    "relevant_data = relevant_data.astype({'annahme':'int'})\n",
    "\n",
    "relevant_data.to_csv('./export/buibid_inserate_annahme.csv', index=False)"
   ]
  }
 ],
 "metadata": {
  "kernelspec": {
   "display_name": "Python 3 (ipykernel)",
   "language": "python",
   "name": "python3"
  },
  "language_info": {
   "codemirror_mode": {
    "name": "ipython",
    "version": 3
   },
   "file_extension": ".py",
   "mimetype": "text/x-python",
   "name": "python",
   "nbconvert_exporter": "python",
   "pygments_lexer": "ipython3",
   "version": "3.9.7"
  }
 },
 "nbformat": 4,
 "nbformat_minor": 5
}
