{
 "cells": [
  {
   "cell_type": "markdown",
   "id": "7cb1df30-362a-493c-81bb-9470c194861e",
   "metadata": {},
   "source": [
    "# Die Schweizer Bevölkerung stimmt ungleicher wie der Bundesrat ab wie früher\n",
    "## Variablen: br-pos, annahme"
   ]
  },
  {
   "cell_type": "code",
   "execution_count": 93,
   "id": "f95d9120-c67e-4825-8fe0-76d9f81541eb",
   "metadata": {},
   "outputs": [
    {
     "name": "stderr",
     "output_type": "stream",
     "text": [
      "/var/folders/hn/wqf6qfkj2mg6b6lxlws_0z180000gn/T/ipykernel_1493/1194106354.py:13: SettingWithCopyWarning: \n",
      "A value is trying to be set on a copy of a slice from a DataFrame.\n",
      "Try using .loc[row_indexer,col_indexer] = value instead\n",
      "\n",
      "See the caveats in the documentation: https://pandas.pydata.org/pandas-docs/stable/user_guide/indexing.html#returning-a-view-versus-a-copy\n",
      "  relevant_data['datum'] = pd.to_datetime(relevant_data['datum'], format=\"%d.%m.%Y\")\n"
     ]
    },
    {
     "data": {
      "image/png": "[encoded data removed]",
      "text/plain": [
       "<Figure size 432x288 with 1 Axes>"
      ]
     },
     "metadata": {},
     "output_type": "display_data"
    }
   ],
   "source": [
    "# Imports\n",
    "import pandas as pd\n",
    "import matplotlib.pyplot as plt\n",
    "\n",
    "# Daten einlesen\n",
    "data = pd.read_csv('./data/buibid_data_original_utf_8.csv')\n",
    "\n",
    "# Nur relevante Daten behalten\n",
    "relevant_data = data[['datum','titel_kurz_d', 'br-pos', 'annahme']]\n",
    "\n",
    "# Datum in korrekte Datentypen umwandeln\n",
    "relevant_data['datum'] = pd.to_datetime(relevant_data['datum'], format=\"%d.%m.%Y\")\n",
    "\n",
    "# Herausfiltern der br-pos 1 = Ja oder 2 = Nein\n",
    "relevant_data = relevant_data[(relevant_data['br-pos'] == '1')|(relevant_data['br-pos'] == '2')]\n",
    "\n",
    "# Herausfiltern der annahme 0 = Nein und 1 = Ja (es gibt annahmen mit '.', welche wir nicht wollen)\n",
    "relevant_data = relevant_data[(relevant_data['annahme'] == '0')|(relevant_data['annahme'] == '1')]\n",
    "\n",
    "# br-pos sowie annahme in korrekte Datentypen umwandeln\n",
    "relevant_data = relevant_data.astype({'br-pos':'int'})\n",
    "relevant_data = relevant_data.astype({'annahme':'int'})\n",
    "\n",
    "# 'annahme' benutzt für 0 = Nein und 1 = Ja, wir müssen deshalb die Daten umwandeln, damit die Variablen\n",
    "# br-pos und annahme die gleichen Zahlen für Ja und Nein benutzen \n",
    "\n",
    "relevant_data['br-pos'].replace({2: 0}, inplace=True)\n",
    "equal_percentage = len(relevant_data[relevant_data['br-pos'] == relevant_data['annahme']])\n",
    "not_equal_percentage = len(relevant_data) - equal_percentage\n",
    "\n",
    "\n",
    "# Kuchendiagramm zeichnen\n",
    "labels = 'Gleich abgestimmt', 'Ungleich abgestimmt'\n",
    "sizes = [equal_percentage, not_equal_percentage]\n",
    "fig1, ax1 = plt.subplots()\n",
    "ax1.pie(sizes,labels=labels, autopct='%1.1f%%', shadow=True, startangle=90)\n",
    "ax1.axis('equal')  # Equal aspect ratio ensures that pie is drawn as a circle.\n",
    "plt.show()\n"
   ]
  },
  {
   "cell_type": "markdown",
   "id": "fc6b8af1",
   "metadata": {},
   "source": [
    "## Generierung CSV Datei"
   ]
  },
  {
   "cell_type": "code",
   "execution_count": 141,
   "id": "694471c9",
   "metadata": {},
   "outputs": [
    {
     "name": "stderr",
     "output_type": "stream",
     "text": [
      "/Users/yahart/opt/anaconda3/lib/python3.9/site-packages/pandas/core/frame.py:5039: SettingWithCopyWarning: \n",
      "A value is trying to be set on a copy of a slice from a DataFrame\n",
      "\n",
      "See the caveats in the documentation: https://pandas.pydata.org/pandas-docs/stable/user_guide/indexing.html#returning-a-view-versus-a-copy\n",
      "  return super().rename(\n",
      "/var/folders/hn/wqf6qfkj2mg6b6lxlws_0z180000gn/T/ipykernel_1493/637594493.py:16: SettingWithCopyWarning: \n",
      "A value is trying to be set on a copy of a slice from a DataFrame.\n",
      "Try using .loc[row_indexer,col_indexer] = value instead\n",
      "\n",
      "See the caveats in the documentation: https://pandas.pydata.org/pandas-docs/stable/user_guide/indexing.html#returning-a-view-versus-a-copy\n",
      "  relevant_data['datum'] = pd.to_datetime(relevant_data['datum'], format=\"%d.%m.%Y\")\n"
     ]
    }
   ],
   "source": [
    "# Imports\n",
    "import pandas as pd\n",
    "import matplotlib.pyplot as plt\n",
    "\n",
    "# Daten einlesen\n",
    "data = pd.read_csv('./data/buibid_data_original_utf_8.csv')\n",
    "\n",
    "# Nur relevante Daten behalten\n",
    "relevant_data = data[['datum','titel_kurz_d', 'br-pos', 'annahme']]\n",
    "\n",
    "# '-' sind in Hive nicht erlaubt\n",
    "relevant_data.rename(columns={'br-pos': 'br_pos'}, inplace=True)\n",
    "\n",
    "# Datum in korrekte Datentypen umwandeln\n",
    "relevant_data['datum'] = pd.to_datetime(relevant_data['datum'], format=\"%d.%m.%Y\")\n",
    "\n",
    "# Herausfiltern der br-pos 1 = Ja oder 2 = Nein\n",
    "relevant_data = relevant_data[(relevant_data['br_pos'] == '1')|(relevant_data['br_pos'] == '2')]\n",
    "\n",
    "# Herausfiltern der annahme 0 = Nein und 1 = Ja (es gibt annahmen mit '.', welche wir nicht wollen)\n",
    "relevant_data = relevant_data[(relevant_data['annahme'] == '0')|(relevant_data['annahme'] == '1')]\n",
    "\n",
    "# br-pos sowie annahme in korrekte Datentypen umwandeln\n",
    "relevant_data = relevant_data.astype({'br_pos':'int'})\n",
    "relevant_data = relevant_data.astype({'annahme':'int'})\n",
    "\n",
    "# 'annahme' benutzt für 0 = Nein und 1 = Ja, wir müssen deshalb die Daten umwandeln, damit die Variablen\n",
    "# br-pos und annahme die gleichen Zahlen für Ja und Nein benutzen \n",
    "\n",
    "relevant_data['br_pos'].replace({2: 0}, inplace=True)\n",
    "\n",
    "relevant_data.to_csv('./export/buibid_br_pos_annahme.csv', index=False)\n"
   ]
  },
  {
   "cell_type": "markdown",
   "id": "0065f8f9",
   "metadata": {},
   "source": [
    "# Die Schweizer Bevölkerung stimmt über die Jahre ungleicher mit den Parteiparolen der SVP ab.\n",
    "## Variablen: p-svp, annahme"
   ]
  },
  {
   "cell_type": "code",
   "execution_count": 112,
   "id": "5b450895",
   "metadata": {},
   "outputs": [
    {
     "name": "stderr",
     "output_type": "stream",
     "text": [
      "/var/folders/hn/wqf6qfkj2mg6b6lxlws_0z180000gn/T/ipykernel_1493/1103721353.py:14: SettingWithCopyWarning: \n",
      "A value is trying to be set on a copy of a slice from a DataFrame.\n",
      "Try using .loc[row_indexer,col_indexer] = value instead\n",
      "\n",
      "See the caveats in the documentation: https://pandas.pydata.org/pandas-docs/stable/user_guide/indexing.html#returning-a-view-versus-a-copy\n",
      "  relevant_data['datum'] = pd.to_datetime(relevant_data['datum'], format=\"%d.%m.%Y\")\n"
     ]
    },
    {
     "data": {
      "text/html": [
       "<div>\n",
       "<style scoped>\n",
       "    .dataframe tbody tr th:only-of-type {\n",
       "        vertical-align: middle;\n",
       "    }\n",
       "\n",
       "    .dataframe tbody tr th {\n",
       "        vertical-align: top;\n",
       "    }\n",
       "\n",
       "    .dataframe thead th {\n",
       "        text-align: right;\n",
       "    }\n",
       "</style>\n",
       "<table border=\"1\" class=\"dataframe\">\n",
       "  <thead>\n",
       "    <tr style=\"text-align: right;\">\n",
       "      <th></th>\n",
       "      <th>datum</th>\n",
       "      <th>titel_kurz_d</th>\n",
       "      <th>p-svp</th>\n",
       "      <th>annahme</th>\n",
       "      <th>ungleichheit-svp</th>\n",
       "    </tr>\n",
       "  </thead>\n",
       "  <tbody>\n",
       "    <tr>\n",
       "      <th>493</th>\n",
       "      <td>2001-06-10</td>\n",
       "      <td>Aufhebung des Bistumsartikels</td>\n",
       "      <td>1</td>\n",
       "      <td>1</td>\n",
       "      <td>0</td>\n",
       "    </tr>\n",
       "    <tr>\n",
       "      <th>498</th>\n",
       "      <td>2001-12-02</td>\n",
       "      <td>Initiative «für eine Kapitalgewinnsteuer»</td>\n",
       "      <td>0</td>\n",
       "      <td>0</td>\n",
       "      <td>0</td>\n",
       "    </tr>\n",
       "    <tr>\n",
       "      <th>500</th>\n",
       "      <td>2002-03-03</td>\n",
       "      <td>Initiative «für eine kürzere Arbeitszeit»</td>\n",
       "      <td>0</td>\n",
       "      <td>0</td>\n",
       "      <td>0</td>\n",
       "    </tr>\n",
       "    <tr>\n",
       "      <th>502</th>\n",
       "      <td>2002-06-02</td>\n",
       "      <td>Initiative «Für Mutter und Kind»</td>\n",
       "      <td>0</td>\n",
       "      <td>0</td>\n",
       "      <td>0</td>\n",
       "    </tr>\n",
       "    <tr>\n",
       "      <th>506</th>\n",
       "      <td>2002-09-22</td>\n",
       "      <td>Elektrizitätsmarktgesetz</td>\n",
       "      <td>1</td>\n",
       "      <td>0</td>\n",
       "      <td>1</td>\n",
       "    </tr>\n",
       "  </tbody>\n",
       "</table>\n",
       "</div>"
      ],
      "text/plain": [
       "         datum                               titel_kurz_d  p-svp  annahme  \\\n",
       "493 2001-06-10              Aufhebung des Bistumsartikels      1        1   \n",
       "498 2001-12-02  Initiative «für eine Kapitalgewinnsteuer»      0        0   \n",
       "500 2002-03-03  Initiative «für eine kürzere Arbeitszeit»      0        0   \n",
       "502 2002-06-02           Initiative «Für Mutter und Kind»      0        0   \n",
       "506 2002-09-22                   Elektrizitätsmarktgesetz      1        0   \n",
       "\n",
       "     ungleichheit-svp  \n",
       "493                 0  \n",
       "498                 0  \n",
       "500                 0  \n",
       "502                 0  \n",
       "506                 1  "
      ]
     },
     "execution_count": 112,
     "metadata": {},
     "output_type": "execute_result"
    },
    {
     "data": {
      "image/png": "[encoded data removed]",
      "text/plain": [
       "<Figure size 432x288 with 1 Axes>"
      ]
     },
     "metadata": {
      "needs_background": "light"
     },
     "output_type": "display_data"
    }
   ],
   "source": [
    "# Imports\n",
    "import pandas as pd\n",
    "import matplotlib.pyplot as plt\n",
    "from matplotlib.dates import MonthLocator\n",
    "\n",
    "# Daten einlesen\n",
    "data = pd.read_csv('./data/buibid_data_original_utf_8.csv')\n",
    "\n",
    "# Nur relevante Daten behalten\n",
    "relevant_data = data[['datum','titel_kurz_d', 'p-svp', 'annahme']]\n",
    "relevant_data.head()\n",
    "\n",
    "# Datum in korrekte Datentypen umwandeln\n",
    "relevant_data['datum'] = pd.to_datetime(relevant_data['datum'], format=\"%d.%m.%Y\")\n",
    "\n",
    "# Duplikate bei Datum herausfiltern und letzter Eintrag behalten\n",
    "relevant_data = relevant_data.drop_duplicates(subset = [\"datum\"], keep='last')\n",
    "\n",
    "# Herausfiltern der p-svp 1 = Ja oder 2 = Nein\n",
    "relevant_data = relevant_data[(relevant_data['p-svp'] == '1')|(relevant_data['p-svp'] == '2')]\n",
    "\n",
    "# Herausfiltern der annahme 0 = Nein und 1 = Ja (es gibt annahmen mit '.', welche wir nicht wollen)\n",
    "relevant_data = relevant_data[(relevant_data['annahme'] == '0')|(relevant_data['annahme'] == '1')]\n",
    "\n",
    "# br-pos sowie annahme in korrekte Datentypen umwandeln\n",
    "relevant_data = relevant_data.astype({'p-svp':'int'})\n",
    "relevant_data = relevant_data.astype({'annahme':'int'})\n",
    "\n",
    "# 'annahme' benutzt für 0 = Nein und 1 = Ja, wir müssen deshalb die Daten umwandeln, damit die Variablen\n",
    "# p-svp und annahme die gleichen Zahlen für Ja und Nein benutzen \n",
    "relevant_data['p-svp'].replace({2: 0}, inplace=True)\n",
    "\n",
    "\n",
    "# Wert für \"Ungleichheit\" bestimmen, hierzu subtrahieren wir einfach die Werte voneinander\n",
    "# Bei einer Übereinstimmung erhalten wir dann den Wert 0 und bei einer Ungleichheit entweder denn Wert 1 oder -1\n",
    "# Wir nehmen im jeden Fall den absoluten Wert dann erhalten wir immer 1, somit ist 0 = Übereinstimmung und 1 = Ungleichheit\n",
    "relevant_data['ungleichheit-svp'] = (relevant_data['p-svp'] - relevant_data['annahme']).abs()\n",
    "\n",
    "# Balkendiagramm zeichnen\n",
    "relevant_data = relevant_data[(relevant_data['datum'] > '2001-05-01') & (relevant_data['datum'] < '2003-02-01')]\n",
    "x = relevant_data['datum']\n",
    "y_svp = relevant_data['ungleichheit-svp']\n",
    "\n",
    "fig, ax = plt.subplots()\n",
    "ax.plot(x, y_svp)\n",
    "ax.set(ylabel=\"Ungleichheit (1 = Ungleich, 0 = Gleich)\", title=\"Ungleichheit der Abstimmungen\")\n",
    "ax.xaxis.set_major_locator(MonthLocator())\n",
    "plt.xticks(rotation=90)\n",
    "relevant_data.head()"
   ]
  },
  {
   "cell_type": "markdown",
   "id": "b0bcc2a0",
   "metadata": {},
   "source": [
    "## Generierung CSV Datei"
   ]
  },
  {
   "cell_type": "code",
   "execution_count": 142,
   "id": "ebb91200",
   "metadata": {},
   "outputs": [
    {
     "name": "stderr",
     "output_type": "stream",
     "text": [
      "/var/folders/hn/wqf6qfkj2mg6b6lxlws_0z180000gn/T/ipykernel_1493/3648441393.py:16: SettingWithCopyWarning: \n",
      "A value is trying to be set on a copy of a slice from a DataFrame.\n",
      "Try using .loc[row_indexer,col_indexer] = value instead\n",
      "\n",
      "See the caveats in the documentation: https://pandas.pydata.org/pandas-docs/stable/user_guide/indexing.html#returning-a-view-versus-a-copy\n",
      "  relevant_data['datum'] = pd.to_datetime(relevant_data['datum'], format=\"%d.%m.%Y\")\n"
     ]
    }
   ],
   "source": [
    "# Imports\n",
    "import pandas as pd\n",
    "import matplotlib.pyplot as plt\n",
    "from matplotlib.dates import MonthLocator\n",
    "\n",
    "# Daten einlesen\n",
    "data = pd.read_csv('./data/buibid_data_original_utf_8.csv')\n",
    "\n",
    "# Nur relevante Daten behalten\n",
    "relevant_data = data[['datum','titel_kurz_d', 'p-svp', 'annahme']]\n",
    "\n",
    "# '-' sind in Hive nicht erlaubt\n",
    "relevant_data.rename(columns={'p-svp': 'p_svp'}, inplace=True)\n",
    "\n",
    "# Datum in korrekte Datentypen umwandeln\n",
    "relevant_data['datum'] = pd.to_datetime(relevant_data['datum'], format=\"%d.%m.%Y\")\n",
    "\n",
    "# Duplikate bei Datum herausfiltern und letzter Eintrag behalten\n",
    "relevant_data = relevant_data.drop_duplicates(subset = [\"datum\"], keep='last')\n",
    "\n",
    "# Herausfiltern der p-svp 1 = Ja oder 2 = Nein\n",
    "relevant_data = relevant_data[(relevant_data['p_svp'] == '1')|(relevant_data['p_svp'] == '2')]\n",
    "\n",
    "# Herausfiltern der annahme 0 = Nein und 1 = Ja (es gibt annahmen mit '.', welche wir nicht wollen)\n",
    "relevant_data = relevant_data[(relevant_data['annahme'] == '0')|(relevant_data['annahme'] == '1')]\n",
    "\n",
    "# br-pos sowie annahme in korrekte Datentypen umwandeln\n",
    "relevant_data = relevant_data.astype({'p_svp':'int'})\n",
    "relevant_data = relevant_data.astype({'annahme':'int'})\n",
    "\n",
    "# 'annahme' benutzt für 0 = Nein und 1 = Ja, wir müssen deshalb die Daten umwandeln, damit die Variablen\n",
    "# p-svp und annahme die gleichen Zahlen für Ja und Nein benutzen \n",
    "relevant_data['p_svp'].replace({2: 0}, inplace=True)\n",
    "\n",
    "\n",
    "# Wert für \"Ungleichheit\" bestimmen, hierzu subtrahieren wir einfach die Werte voneinander\n",
    "# Bei einer Übereinstimmung erhalten wir dann den Wert 0 und bei einer Ungleichheit entweder denn Wert 1 oder -1\n",
    "# Wir nehmen im jeden Fall den absoluten Wert dann erhalten wir immer 1, somit ist 0 = Übereinstimmung und 1 = Ungleichheit\n",
    "relevant_data['ungleichheit_svp'] = (relevant_data['p_svp'] - relevant_data['annahme']).abs()\n",
    "\n",
    "relevant_data.to_csv('./export/buibid_p_svp_annahme.csv', index=False)"
   ]
  },
  {
   "cell_type": "markdown",
   "id": "94705924",
   "metadata": {},
   "source": [
    "# Die Schweizer Bevölkerung ist ablehnend gegenüber einer Initiative/Referendum, wenn die Medienberichterstattung mehrheitlich ablehnend ist.\n",
    "## Variablen: mediaton-tot, annahme"
   ]
  },
  {
   "cell_type": "code",
   "execution_count": 110,
   "id": "3a6e411c",
   "metadata": {},
   "outputs": [
    {
     "name": "stderr",
     "output_type": "stream",
     "text": [
      "/var/folders/hn/wqf6qfkj2mg6b6lxlws_0z180000gn/T/ipykernel_1493/1351896979.py:13: SettingWithCopyWarning: \n",
      "A value is trying to be set on a copy of a slice from a DataFrame.\n",
      "Try using .loc[row_indexer,col_indexer] = value instead\n",
      "\n",
      "See the caveats in the documentation: https://pandas.pydata.org/pandas-docs/stable/user_guide/indexing.html#returning-a-view-versus-a-copy\n",
      "  relevant_data['datum'] = pd.to_datetime(relevant_data['datum'], format=\"%d.%m.%Y\")\n"
     ]
    },
    {
     "data": {
      "image/png": "[encoded data removed]",
      "text/plain": [
       "<Figure size 432x288 with 1 Axes>"
      ]
     },
     "metadata": {},
     "output_type": "display_data"
    }
   ],
   "source": [
    "# Imports\n",
    "import pandas as pd\n",
    "import matplotlib.pyplot as plt\n",
    "\n",
    "# Daten einlesen\n",
    "data = pd.read_csv('./data/buibid_data_original_utf_8.csv')\n",
    "\n",
    "# Nur relevante Daten behalten\n",
    "relevant_data = data[['datum','titel_kurz_d', 'mediaton-tot', 'annahme']]\n",
    "\n",
    "# Datum in korrekte Datentypen umwandeln\n",
    "relevant_data['datum'] = pd.to_datetime(relevant_data['datum'], format=\"%d.%m.%Y\")\n",
    "\n",
    "# Filtern der annahme 0 = Nein und 1 = Ja (es gibt annahmen mit '.', welche wir nicht wollen)\n",
    "relevant_data = relevant_data[(relevant_data['annahme'] == '0')|(relevant_data['annahme'] == '1')]\n",
    "\n",
    "# Herausfiltern der mediaton-tot (es gibt Werte mit '.' oder ganz leer, welche wir nicht wollen)\n",
    "relevant_data = relevant_data[relevant_data['mediaton-tot'] != '.']\n",
    "\n",
    "# mediaton-tot sowie annahme in korrekte Datentypen umwandeln\n",
    "relevant_data = relevant_data.astype({'mediaton-tot':'int'})\n",
    "relevant_data = relevant_data.astype({'annahme':'int'})\n",
    "\n",
    "# Nur jene Resultate anschauen, wo die mediaton-tot Variable überwiegend negativ (< 0 ausfällt)\n",
    "relevant_data = relevant_data[relevant_data['mediaton-tot'] < 0]\n",
    "\n",
    "yes_percentage = len(relevant_data[relevant_data['annahme'] == 1])\n",
    "no_percentage = len(relevant_data) - yes_percentage\n",
    "\n",
    "\n",
    "# Kuchendiagramm zeichnen\n",
    "labels = 'Haben abgelehnt', 'Haben zugestimmt'\n",
    "sizes = [no_percentage, yes_percentage]\n",
    "fig1, ax1 = plt.subplots()\n",
    "ax1.pie(sizes,labels=labels, autopct='%1.1f%%', shadow=True, startangle=90)\n",
    "ax1.axis('equal')  # Equal aspect ratio ensures that pie is drawn as a circle.\n",
    "plt.show()"
   ]
  },
  {
   "cell_type": "markdown",
   "id": "b8939ab3",
   "metadata": {},
   "source": [
    "## Generierung CSV Datei"
   ]
  },
  {
   "cell_type": "code",
   "execution_count": 143,
   "id": "0b84fdfb",
   "metadata": {},
   "outputs": [
    {
     "name": "stderr",
     "output_type": "stream",
     "text": [
      "/var/folders/hn/wqf6qfkj2mg6b6lxlws_0z180000gn/T/ipykernel_1493/1373765143.py:15: SettingWithCopyWarning: \n",
      "A value is trying to be set on a copy of a slice from a DataFrame.\n",
      "Try using .loc[row_indexer,col_indexer] = value instead\n",
      "\n",
      "See the caveats in the documentation: https://pandas.pydata.org/pandas-docs/stable/user_guide/indexing.html#returning-a-view-versus-a-copy\n",
      "  relevant_data['datum'] = pd.to_datetime(relevant_data['datum'], format=\"%d.%m.%Y\")\n"
     ]
    }
   ],
   "source": [
    "# Imports\n",
    "import pandas as pd\n",
    "import matplotlib.pyplot as plt\n",
    "\n",
    "# Daten einlesen\n",
    "data = pd.read_csv('./data/buibid_data_original_utf_8.csv')\n",
    "\n",
    "# Nur relevante Daten behalten\n",
    "relevant_data = data[['datum','titel_kurz_d', 'mediaton-tot', 'annahme']]\n",
    "\n",
    "# '-' sind in Hive nicht erlaubt\n",
    "relevant_data.rename(columns={'mediaton-tot': 'mediaton_tot'}, inplace=True)\n",
    "\n",
    "# Datum in korrekte Datentypen umwandeln\n",
    "relevant_data['datum'] = pd.to_datetime(relevant_data['datum'], format=\"%d.%m.%Y\")\n",
    "\n",
    "# Filtern der annahme 0 = Nein und 1 = Ja (es gibt annahmen mit '.', welche wir nicht wollen)\n",
    "relevant_data = relevant_data[(relevant_data['annahme'] == '0')|(relevant_data['annahme'] == '1')]\n",
    "\n",
    "# Herausfiltern der mediaton-tot (es gibt Werte mit '.' oder ganz leer, welche wir nicht wollen)\n",
    "relevant_data = relevant_data[relevant_data['mediaton_tot'] != '.']\n",
    "\n",
    "# mediaton-tot sowie annahme in korrekte Datentypen umwandeln\n",
    "relevant_data = relevant_data.astype({'mediaton_tot':'int'})\n",
    "relevant_data = relevant_data.astype({'annahme':'int'})\n",
    "\n",
    "# Nur jene Resultate anschauen, wo die mediaton-tot Variable überwiegend negativ (< 0 ausfällt)\n",
    "relevant_data = relevant_data[relevant_data['mediaton_tot'] < 0]\n",
    "\n",
    "relevant_data.to_csv('./export/buibid_mediaton_tot_annahme.csv', index=False)"
   ]
  },
  {
   "cell_type": "markdown",
   "id": "d2ec061a",
   "metadata": {},
   "source": [
    "# Es gibt einen Zusammenhang zwischen dem Ja-Anteil der Abstimmungsresultate und der Anzahl des Ja-Anteils an Inseraten in Printmedien.\n",
    "## Variablen: annahme, inserate-ja"
   ]
  },
  {
   "cell_type": "code",
   "execution_count": 128,
   "id": "200c88d2",
   "metadata": {},
   "outputs": [
    {
     "name": "stderr",
     "output_type": "stream",
     "text": [
      "/var/folders/hn/wqf6qfkj2mg6b6lxlws_0z180000gn/T/ipykernel_1493/1086352061.py:14: SettingWithCopyWarning: \n",
      "A value is trying to be set on a copy of a slice from a DataFrame.\n",
      "Try using .loc[row_indexer,col_indexer] = value instead\n",
      "\n",
      "See the caveats in the documentation: https://pandas.pydata.org/pandas-docs/stable/user_guide/indexing.html#returning-a-view-versus-a-copy\n",
      "  relevant_data['datum'] = pd.to_datetime(relevant_data['datum'], format=\"%d.%m.%Y\")\n"
     ]
    },
    {
     "data": {
      "text/plain": [
       "<seaborn.axisgrid.PairGrid at 0x7fae7b69d190>"
      ]
     },
     "execution_count": 128,
     "metadata": {},
     "output_type": "execute_result"
    },
    {
     "data": {
      "image/png": "[encoded data removed]",
      "text/plain": [
       "<Figure size 235.125x180 with 2 Axes>"
      ]
     },
     "metadata": {
      "needs_background": "light"
     },
     "output_type": "display_data"
    }
   ],
   "source": [
    "# Imports\n",
    "import pandas as pd\n",
    "import matplotlib.pyplot as plt\n",
    "import numpy as np\n",
    "import seaborn as sns\n",
    "\n",
    "# Daten einlesen\n",
    "data = pd.read_csv('./data/buibid_data_original_utf_8.csv')\n",
    "\n",
    "# Nur relevante Daten behalten\n",
    "relevant_data = data[['datum','titel_kurz_d', 'inserate-ja', 'annahme']]\n",
    "\n",
    "# Datum in korrekte Datentypen umwandeln\n",
    "relevant_data['datum'] = pd.to_datetime(relevant_data['datum'], format=\"%d.%m.%Y\")\n",
    "\n",
    "# Filtern der annahme 0 = Nein und 1 = Ja (es gibt annahmen mit '.', welche wir nicht wollen)\n",
    "relevant_data = relevant_data[(relevant_data['annahme'] == '0')|(relevant_data['annahme'] == '1')]\n",
    "\n",
    "# Herausfilter der inserate-ja mit '.'\n",
    "relevant_data = relevant_data[(relevant_data['inserate-ja'] != '.')].dropna()\n",
    "\n",
    "relevant_data = relevant_data.astype({'inserate-ja':'int'})\n",
    "relevant_data = relevant_data.astype({'annahme':'int'})\n",
    "\n",
    "sns.pairplot(relevant_data, hue = 'annahme')"
   ]
  },
  {
   "cell_type": "markdown",
   "id": "af4e730c",
   "metadata": {},
   "source": [
    "## Generierung CSV Datei"
   ]
  },
  {
   "cell_type": "code",
   "execution_count": 144,
   "id": "c228e1f9",
   "metadata": {},
   "outputs": [
    {
     "name": "stderr",
     "output_type": "stream",
     "text": [
      "/var/folders/hn/wqf6qfkj2mg6b6lxlws_0z180000gn/T/ipykernel_1493/269377655.py:17: SettingWithCopyWarning: \n",
      "A value is trying to be set on a copy of a slice from a DataFrame.\n",
      "Try using .loc[row_indexer,col_indexer] = value instead\n",
      "\n",
      "See the caveats in the documentation: https://pandas.pydata.org/pandas-docs/stable/user_guide/indexing.html#returning-a-view-versus-a-copy\n",
      "  relevant_data['datum'] = pd.to_datetime(relevant_data['datum'], format=\"%d.%m.%Y\")\n"
     ]
    }
   ],
   "source": [
    "# Imports\n",
    "import pandas as pd\n",
    "import matplotlib.pyplot as plt\n",
    "import numpy as np\n",
    "import seaborn as sns\n",
    "\n",
    "# Daten einlesen\n",
    "data = pd.read_csv('./data/buibid_data_original_utf_8.csv')\n",
    "\n",
    "# Nur relevante Daten behalten\n",
    "relevant_data = data[['datum','titel_kurz_d', 'inserate-ja', 'annahme']]\n",
    "\n",
    "# '-' sind in Hive nicht erlaubt\n",
    "relevant_data.rename(columns={'inserate-ja': 'inserate_ja'}, inplace=True)\n",
    "\n",
    "# Datum in korrekte Datentypen umwandeln\n",
    "relevant_data['datum'] = pd.to_datetime(relevant_data['datum'], format=\"%d.%m.%Y\")\n",
    "\n",
    "# Filtern der annahme 0 = Nein und 1 = Ja (es gibt annahmen mit '.', welche wir nicht wollen)\n",
    "relevant_data = relevant_data[(relevant_data['annahme'] == '0')|(relevant_data['annahme'] == '1')]\n",
    "\n",
    "# Herausfilter der inserate-ja mit '.'\n",
    "relevant_data = relevant_data[(relevant_data['inserate_ja'] != '.')].dropna()\n",
    "\n",
    "relevant_data = relevant_data.astype({'inserate_ja':'int'})\n",
    "relevant_data = relevant_data.astype({'annahme':'int'})\n",
    "\n",
    "relevant_data.to_csv('./export/buibid_inserate_ja_annahme.csv', index=False)"
   ]
  }
 ],
 "metadata": {
  "kernelspec": {
   "display_name": "Python 3 (ipykernel)",
   "language": "python",
   "name": "python3"
  },
  "language_info": {
   "codemirror_mode": {
    "name": "ipython",
    "version": 3
   },
   "file_extension": ".py",
   "mimetype": "text/x-python",
   "name": "python",
   "nbconvert_exporter": "python",
   "pygments_lexer": "ipython3",
   "version": "3.9.7"
  }
 },
 "nbformat": 4,
 "nbformat_minor": 5
}
